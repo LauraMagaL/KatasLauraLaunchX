{
 "cells": [
  {
   "cell_type": "markdown",
   "metadata": {},
   "source": [
    "## Ejercicio 1"
   ]
  },
  {
   "cell_type": "code",
   "execution_count": 31,
   "metadata": {},
   "outputs": [],
   "source": [
    "d_tierra=149597870\n",
    "d_jupiter=778547200"
   ]
  },
  {
   "cell_type": "code",
   "execution_count": 32,
   "metadata": {},
   "outputs": [
    {
     "name": "stdout",
     "output_type": "stream",
     "text": [
      "628949330 km\n",
      "390577534 Miles\n"
     ]
    }
   ],
   "source": [
    "dist_b2=d_jupiter-d_tierra\n",
    "print(dist_b2, 'km')\n",
    "dist_mi=dist_b2*0.621\n",
    "print(round(dist_mi),'Miles')"
   ]
  },
  {
   "cell_type": "markdown",
   "metadata": {},
   "source": [
    "## Ejercicio 2"
   ]
  },
  {
   "cell_type": "code",
   "execution_count": 33,
   "metadata": {},
   "outputs": [
    {
     "name": "stdout",
     "output_type": "stream",
     "text": [
      "Mucho gusto lau\n"
     ]
    }
   ],
   "source": [
    "name=input('¿Cuál es tu nombre? ')\n",
    "sol_1=input('¿Cuál es la distancia del sol al primer planeta? ')\n",
    "sol_2=input('¿Cuál es la distancia del sol al segundo planeta? ')\n",
    "print('Mucho gusto', name,)"
   ]
  },
  {
   "cell_type": "code",
   "execution_count": 34,
   "metadata": {},
   "outputs": [],
   "source": [
    "sol_1=int(sol_1)\n",
    "sol_2=int(sol_2)"
   ]
  },
  {
   "cell_type": "code",
   "execution_count": 35,
   "metadata": {},
   "outputs": [
    {
     "name": "stdout",
     "output_type": "stream",
     "text": [
      "la distancia en km es:  629000000\n",
      "La distancia en millas es:  390609000\n"
     ]
    }
   ],
   "source": [
    "dist=abs(sol_1-sol_2)\n",
    "print('la distancia en km es: ',dist)\n",
    "print('La distancia en millas es: ',round(dist*0.621))"
   ]
  }
 ],
 "metadata": {
  "interpreter": {
   "hash": "d9244179d1956ecf1128cf4ae80304c15e3eb5c2ce0a6fa27c6a7182dccff657"
  },
  "kernelspec": {
   "display_name": "Python 3.10.2 64-bit (windows store)",
   "language": "python",
   "name": "python3"
  },
  "language_info": {
   "codemirror_mode": {
    "name": "ipython",
    "version": 3
   },
   "file_extension": ".py",
   "mimetype": "text/x-python",
   "name": "python",
   "nbconvert_exporter": "python",
   "pygments_lexer": "ipython3",
   "version": "3.10.2"
  },
  "orig_nbformat": 4
 },
 "nbformat": 4,
 "nbformat_minor": 2
}
