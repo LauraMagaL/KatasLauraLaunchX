{
 "cells": [
  {
   "cell_type": "code",
   "execution_count": 1,
   "metadata": {},
   "outputs": [
    {
     "name": "stdout",
     "output_type": "stream",
     "text": [
      "cantidad no disponible\n"
     ]
    }
   ],
   "source": [
    "huevo=8\n",
    "if (huevo==2):\n",
    "    print('La cantidad')\n",
    "else:\n",
    "    print(\"cantidad no disponible\")"
   ]
  },
  {
   "cell_type": "markdown",
   "metadata": {},
   "source": [
    "Ejercicio con IF"
   ]
  },
  {
   "cell_type": "code",
   "execution_count": null,
   "metadata": {},
   "outputs": [
    {
     "name": "stdout",
     "output_type": "stream",
     "text": [
      "La mezcla alcanzó para 2.6666666666666665 hot cakes por persona\n"
     ]
    }
   ],
   "source": [
    "mezcla=8\n",
    "porcion = mezcla / 3\n",
    "print('La mezcla alcanzó para '+str(porcion)+ ' hot cakes por persona')"
   ]
  },
  {
   "cell_type": "markdown",
   "metadata": {},
   "source": [
    "## Cadenas\n",
    "Serie de caracteres, entre comillas dobles o simples\n"
   ]
  },
  {
   "cell_type": "code",
   "execution_count": null,
   "metadata": {},
   "outputs": [
    {
     "name": "stdout",
     "output_type": "stream",
     "text": [
      "Laura Magana\n"
     ]
    }
   ],
   "source": [
    "#string\n",
    "name='Laura Magana'\n",
    "print(name.title())"
   ]
  },
  {
   "cell_type": "code",
   "execution_count": null,
   "metadata": {},
   "outputs": [
    {
     "name": "stdout",
     "output_type": "stream",
     "text": [
      "LAURA MAGANA\n"
     ]
    }
   ],
   "source": [
    "#Mayusculas\n",
    "print(name.upper())"
   ]
  },
  {
   "cell_type": "code",
   "execution_count": null,
   "metadata": {},
   "outputs": [
    {
     "name": "stdout",
     "output_type": "stream",
     "text": [
      "laura magana\n"
     ]
    }
   ],
   "source": [
    "#Minusculas\n",
    "print(name.lower())"
   ]
  },
  {
   "cell_type": "code",
   "execution_count": null,
   "metadata": {},
   "outputs": [
    {
     "name": "stdout",
     "output_type": "stream",
     "text": [
      "True\n",
      "laura magana\n"
     ]
    }
   ],
   "source": [
    "name = name.lower()\n",
    "print(name.islower()) #si sólo se especifica en al print con .\"\" el cambio es temporal\n",
    "print(name)"
   ]
  },
  {
   "cell_type": "code",
   "execution_count": null,
   "metadata": {},
   "outputs": [
    {
     "name": "stdout",
     "output_type": "stream",
     "text": [
      "Laura                     Magana\n"
     ]
    }
   ],
   "source": [
    "first_name = 'Laura'\n",
    "last_name = '                     Magana'\n",
    "print(first_name + \"\" +last_name)"
   ]
  },
  {
   "cell_type": "code",
   "execution_count": null,
   "metadata": {},
   "outputs": [
    {
     "name": "stdout",
     "output_type": "stream",
     "text": [
      "Magana\n"
     ]
    }
   ],
   "source": [
    "#para quitar los espacios\n",
    "last_name = last_name.strip()\n",
    "print(last_name)"
   ]
  },
  {
   "cell_type": "code",
   "execution_count": null,
   "metadata": {},
   "outputs": [
    {
     "name": "stdout",
     "output_type": "stream",
     "text": [
      "Magana            \n"
     ]
    }
   ],
   "source": [
    "last_name = '                     Magana            '\n",
    "last_name = last_name.lstrip() #quita los espacios del inicio\n",
    "print(last_name)\n"
   ]
  },
  {
   "cell_type": "code",
   "execution_count": null,
   "metadata": {},
   "outputs": [
    {
     "name": "stdout",
     "output_type": "stream",
     "text": [
      "Magana\n"
     ]
    }
   ],
   "source": [
    "last_name = last_name.rstrip() #quita espacios al final\n",
    "print(last_name)"
   ]
  },
  {
   "cell_type": "code",
   "execution_count": null,
   "metadata": {},
   "outputs": [
    {
     "name": "stdout",
     "output_type": "stream",
     "text": [
      "Laura Magana\n"
     ]
    }
   ],
   "source": [
    "nombre = 'Laura'\n",
    "apellido = 'Magana'\n",
    "nombre_completo = f'{nombre} {apellido}'\n",
    "print(nombre_completo)"
   ]
  },
  {
   "cell_type": "markdown",
   "metadata": {},
   "source": []
  },
  {
   "cell_type": "markdown",
   "metadata": {},
   "source": [
    "## Listas\n",
    "Almacena una serie de elementos\n"
   ]
  },
  {
   "cell_type": "code",
   "execution_count": null,
   "metadata": {},
   "outputs": [],
   "source": [
    "ingredientes = ['huevo', 'harina', 'leche']\n"
   ]
  },
  {
   "cell_type": "code",
   "execution_count": null,
   "metadata": {},
   "outputs": [
    {
     "data": {
      "text/plain": [
       "'leche'"
      ]
     },
     "execution_count": 35,
     "metadata": {},
     "output_type": "execute_result"
    }
   ],
   "source": [
    "#primer elemento\n",
    "ingredientes[0]\n",
    "#último elemento\n",
    "ingredientes[-1]"
   ]
  },
  {
   "cell_type": "code",
   "execution_count": null,
   "metadata": {},
   "outputs": [
    {
     "name": "stdout",
     "output_type": "stream",
     "text": [
      "['huevo', 'harina', 'leche', 'mantequilla']\n"
     ]
    }
   ],
   "source": [
    "#append()\n",
    "ingredientes.append('mantequilla')\n",
    "print(ingredientes)\n"
   ]
  },
  {
   "cell_type": "code",
   "execution_count": null,
   "metadata": {},
   "outputs": [
    {
     "name": "stdout",
     "output_type": "stream",
     "text": [
      "['huevo', 'harina', 'vainilla', 'leche', 'mantequilla']\n"
     ]
    }
   ],
   "source": [
    "#Insert\n",
    "ingredientes.insert(2,'vainilla')\n",
    "print(ingredientes)\n"
   ]
  },
  {
   "cell_type": "code",
   "execution_count": null,
   "metadata": {},
   "outputs": [
    {
     "name": "stdout",
     "output_type": "stream",
     "text": [
      "['huevo', 'harina', 'vainilla', 'leche']\n"
     ]
    }
   ],
   "source": [
    "# pop\n",
    "ingredientes.pop(-1)\n",
    "print(ingredientes)\n"
   ]
  },
  {
   "cell_type": "code",
   "execution_count": null,
   "metadata": {},
   "outputs": [
    {
     "name": "stdout",
     "output_type": "stream",
     "text": [
      "['huevo', 'vainilla', 'leche']\n"
     ]
    }
   ],
   "source": [
    "# Remove\n",
    "ingredientes.remove('harina')\n",
    "print(ingredientes)"
   ]
  },
  {
   "cell_type": "code",
   "execution_count": null,
   "metadata": {},
   "outputs": [
    {
     "name": "stdout",
     "output_type": "stream",
     "text": [
      "['huevo', 'leche', 'vainilla']\n"
     ]
    }
   ],
   "source": [
    "#sort a-z\n",
    "ingredientes.sort()\n",
    "print(ingredientes)"
   ]
  },
  {
   "cell_type": "code",
   "execution_count": null,
   "metadata": {},
   "outputs": [
    {
     "name": "stdout",
     "output_type": "stream",
     "text": [
      "['vainilla', 'leche', 'huevo']\n"
     ]
    }
   ],
   "source": [
    "#reverse z-a\n",
    "ingredientes.reverse()\n",
    "print(ingredientes)"
   ]
  },
  {
   "cell_type": "code",
   "execution_count": null,
   "metadata": {},
   "outputs": [
    {
     "name": "stdout",
     "output_type": "stream",
     "text": [
      "3\n"
     ]
    }
   ],
   "source": [
    "#longitud\n",
    "print(len(ingredientes))"
   ]
  },
  {
   "cell_type": "code",
   "execution_count": null,
   "metadata": {},
   "outputs": [
    {
     "name": "stdout",
     "output_type": "stream",
     "text": [
      "['vainilla', 'leche']\n"
     ]
    }
   ],
   "source": [
    "#Slicing\n",
    "primeros_dos = ingredientes[:2]\n",
    "print(primeros_dos)"
   ]
  },
  {
   "cell_type": "code",
   "execution_count": null,
   "metadata": {},
   "outputs": [
    {
     "name": "stdout",
     "output_type": "stream",
     "text": [
      "['huevo', 'harina', 'leche']\n"
     ]
    }
   ],
   "source": [
    "#copiar lista\n",
    "copy_list = ingredientes[:]\n",
    "print(copy_list)"
   ]
  },
  {
   "cell_type": "markdown",
   "metadata": {},
   "source": [
    "## Tuplas\n",
    "Las tuplas son similares a las listas, pero los elementos de una tupla no se pueden modificar"
   ]
  },
  {
   "cell_type": "code",
   "execution_count": null,
   "metadata": {},
   "outputs": [
    {
     "name": "stdout",
     "output_type": "stream",
     "text": [
      "1080\n",
      "720\n"
     ]
    }
   ],
   "source": [
    "dimensiones = (1080, 720) #las tuplas van en paréntesis\n",
    "print(dimensiones[0])\n",
    "print(dimensiones[1])\n"
   ]
  },
  {
   "cell_type": "code",
   "execution_count": null,
   "metadata": {},
   "outputs": [
    {
     "ename": "TypeError",
     "evalue": "'tuple' object does not support item assignment",
     "output_type": "error",
     "traceback": [
      "\u001b[1;31m---------------------------------------------------------------------------\u001b[0m",
      "\u001b[1;31mTypeError\u001b[0m                                 Traceback (most recent call last)",
      "\u001b[1;32mUntitled-1.ipynb Cell 29'\u001b[0m in \u001b[0;36m<module>\u001b[1;34m\u001b[0m\n\u001b[1;32m----> <a href='vscode-notebook-cell:Untitled-1.ipynb?jupyter-notebook#ch0000028untitled?line=0'>1</a>\u001b[0m dimensiones[\u001b[39m1\u001b[39m] \u001b[39m=\u001b[39m \u001b[39m1080\u001b[39m\n",
      "\u001b[1;31mTypeError\u001b[0m: 'tuple' object does not support item assignment"
     ]
    }
   ],
   "source": [
    "dimensiones[1] = 1080 #va a marcar error"
   ]
  },
  {
   "cell_type": "code",
   "execution_count": null,
   "metadata": {},
   "outputs": [
    {
     "name": "stdout",
     "output_type": "stream",
     "text": [
      "Dimensiones originales\n",
      "1080\n",
      "720\n"
     ]
    }
   ],
   "source": [
    "print('Dimensiones originales')\n",
    "for dim in dimensiones:\n",
    "    print(dim)\n"
   ]
  },
  {
   "cell_type": "code",
   "execution_count": null,
   "metadata": {},
   "outputs": [
    {
     "name": "stdout",
     "output_type": "stream",
     "text": [
      "(1080, 1080)\n"
     ]
    }
   ],
   "source": [
    "dimensiones = (1080, 1080)\n",
    "print(dimensiones)\n"
   ]
  },
  {
   "cell_type": "code",
   "execution_count": null,
   "metadata": {},
   "outputs": [
    {
     "name": "stdout",
     "output_type": "stream",
     "text": [
      "1080\n",
      "1080\n"
     ]
    }
   ],
   "source": [
    "for d in dimensiones:  #for es un ciclo, y en éste programa, va a imprimir cada elemento\n",
    "    #hasta que se terminen los elementos en la tupla, pregunta:¿funciona con los listados?\n",
    "    print(d)"
   ]
  },
  {
   "cell_type": "code",
   "execution_count": 65,
   "metadata": {},
   "outputs": [
    {
     "name": "stdout",
     "output_type": "stream",
     "text": [
      "('perro', 'gato', 'lince', 'cabra', 'elefante')\n",
      "\n",
      " Ahora imprimirá en vertical:\n",
      "\n",
      "perro\n",
      "gato\n",
      "lince\n",
      "cabra\n",
      "elefante\n"
     ]
    }
   ],
   "source": [
    "animales = ('perro','gato','lince','cabra','elefante')\n",
    "print(animales)\n",
    "print('\\n Ahora imprimirá en vertical:\\n') #recordando que \\n es un salto o un enter\n",
    "for a in animales:\n",
    "    print(a)"
   ]
  },
  {
   "cell_type": "markdown",
   "metadata": {},
   "source": []
  },
  {
   "cell_type": "code",
   "execution_count": 63,
   "metadata": {},
   "outputs": [
    {
     "name": "stdout",
     "output_type": "stream",
     "text": [
      "Añadiendo ingredientes a la orden: crema de chocolate\n",
      "Añadiendo ingredientes a la orden: chispas\n",
      "Añadiendo ingredientes a la orden: relleno de crema\n",
      "Añadiendo ingredientes a la orden: nueces\n",
      "\n",
      " Tu cupcake está listo\n"
     ]
    }
   ],
   "source": [
    "## cupcake decoración\n",
    "el_cliente_quiere = ['crema de chocolate','chispas', 'relleno de crema', 'nueces']\n",
    "for extra in el_cliente_quiere: #renombramos a cada elemento como 'extra'\n",
    "    print(f'Añadiendo ingredientes a la orden: {extra}')\n",
    "\n",
    "print('\\n Tu cupcake está listo')"
   ]
  },
  {
   "cell_type": "code",
   "execution_count": 68,
   "metadata": {},
   "outputs": [
    {
     "name": "stdout",
     "output_type": "stream",
     "text": [
      "Añadiendo ingredientes a la orden: crema de chocolate\n",
      "Añadiendo ingredientes a la orden: chispas\n",
      "Añadiendo ingredientes a la orden: relleno de crema\n",
      "Lo sentimos, no tenemos nueces, puedes agregar almendras C:\n",
      "\n",
      "Tu cupcake está listo\n"
     ]
    }
   ],
   "source": [
    "# No hay un ingrediente extra\n",
    "el_cliente_quiere = ['crema de chocolate','chispas', 'relleno de crema', 'nueces']\n",
    "for extra in el_cliente_quiere:\n",
    "    if extra == 'nueces':\n",
    "        print('Lo sentimos, no tenemos nueces, puedes agregar almendras C:')\n",
    "    else:\n",
    "        print(f'Añadiendo ingredientes a la orden: {extra}')\n",
    "\n",
    "print('\\nTu cupcake está listo')"
   ]
  },
  {
   "cell_type": "code",
   "execution_count": 72,
   "metadata": {},
   "outputs": [
    {
     "name": "stdout",
     "output_type": "stream",
     "text": [
      "Añadiendo crema de chocolate.\n",
      "Añadiendo chispas.\n",
      "Añadiendo relleno de crema.\n",
      "\n",
      "Lo sentimos, no tenemos nueces :c\n",
      "\n",
      "Tu cupcake está listo!! C:\n"
     ]
    }
   ],
   "source": [
    "# ¿Cómo saber qué ingredientes sí están disponibles?\n",
    "\n",
    "extras_disponibles = ['crema de chocolate', 'almendras', 'chispas', 'relleno de crema', 'ralladura de limón', 'canela','pasas']\n",
    "el_cliente_quiere = ['crema de chocolate','chispas', 'relleno de crema', 'nueces']\n",
    "\n",
    "for extra in el_cliente_quiere:\n",
    "    if extra in extras_disponibles:\n",
    "        print(f'Añadiendo {extra}.')\n",
    "    else:\n",
    "        print(f'\\nLo sentimos, no tenemos {extra} :c')\n",
    "print('\\nTu cupcake está listo!! C:')"
   ]
  }
 ],
 "metadata": {
  "interpreter": {
   "hash": "d9244179d1956ecf1128cf4ae80304c15e3eb5c2ce0a6fa27c6a7182dccff657"
  },
  "kernelspec": {
   "display_name": "Python 3.10.2 64-bit (windows store)",
   "language": "python",
   "name": "python3"
  },
  "language_info": {
   "codemirror_mode": {
    "name": "ipython",
    "version": 3
   },
   "file_extension": ".py",
   "mimetype": "text/x-python",
   "name": "python",
   "nbconvert_exporter": "python",
   "pygments_lexer": "ipython3",
   "version": "3.10.2"
  },
  "orig_nbformat": 4
 },
 "nbformat": 4,
 "nbformat_minor": 2
}
