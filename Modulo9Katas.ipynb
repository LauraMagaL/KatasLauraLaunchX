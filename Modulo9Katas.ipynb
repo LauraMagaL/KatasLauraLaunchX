{
 "cells": [
  {
   "cell_type": "markdown",
   "metadata": {},
   "source": [
    "## Ejercicio 1"
   ]
  },
  {
   "cell_type": "code",
   "execution_count": 43,
   "metadata": {},
   "outputs": [],
   "source": [
    "def combustible(tanque1, tanque2, tanque3):\n",
    "    prom_total=(tanque1+tanque2+tanque3)/3\n",
    "    return f\"\"\"Reporte:\n",
    "    Promedio total:{prom_total}\n",
    "    Tanque crudo: {tanque1} lts\n",
    "    Tanque combustóleo: {tanque2} lts\n",
    "    Tanque ceras: {tanque3} lts\n",
    "    \"\"\""
   ]
  },
  {
   "cell_type": "code",
   "execution_count": 44,
   "metadata": {},
   "outputs": [
    {
     "name": "stdout",
     "output_type": "stream",
     "text": [
      "Reporte:\n",
      "    Promedio total:19839.0\n",
      "    Tanque crudo: 50000 lts\n",
      "    Tanque combustóleo: 1508 lts\n",
      "    Tanque ceras: 8009 lts\n",
      "    \n"
     ]
    }
   ],
   "source": [
    "print(combustible(50000,1508,8009))"
   ]
  },
  {
   "cell_type": "code",
   "execution_count": 45,
   "metadata": {},
   "outputs": [
    {
     "name": "stdout",
     "output_type": "stream",
     "text": [
      "1853.3333333333333\n"
     ]
    }
   ],
   "source": [
    "def promedio(cantidad):\n",
    "    total=sum(cantidad)\n",
    "    valores=len(cantidad)\n",
    "    return total/valores\n",
    "print(promedio([500,4080,980]))"
   ]
  },
  {
   "cell_type": "code",
   "execution_count": 46,
   "metadata": {},
   "outputs": [
    {
     "name": "stdout",
     "output_type": "stream",
     "text": [
      " Reporte de hidrocarburos:\n",
      "    Promedio: 32172.0 lts\n",
      "    Tanque crudo: 80000 lts\n",
      "    Tanque combustóleo: 10000 lts\n",
      "    Tanque ceras: 6516 lts\n",
      "    \n"
     ]
    }
   ],
   "source": [
    "def combustible(tanque1, tanque2, tanque3):\n",
    "    return f\"\"\" Reporte de hidrocarburos:\n",
    "    Promedio: {promedio([tanque1, tanque2, tanque3])} lts\n",
    "    Tanque crudo: {tanque1} lts\n",
    "    Tanque combustóleo: {tanque2} lts\n",
    "    Tanque ceras: {tanque3} lts\n",
    "    \"\"\"\n",
    "print(combustible(80000,10000,6516))"
   ]
  },
  {
   "cell_type": "markdown",
   "metadata": {},
   "source": [
    "## Ejercicio 2"
   ]
  },
  {
   "cell_type": "code",
   "execution_count": 47,
   "metadata": {},
   "outputs": [
    {
     "name": "stdout",
     "output_type": "stream",
     "text": [
      " Informe de Lanzamiento\n",
      "    Tiempo de lanzamiento: 8 hrs\n",
      "    Tiempo de viaje: 51415\n",
      "    Destino: Marte\n",
      "    Tiempo total: 51423\n",
      "    Combustible tanque interno: 981485 lts\n",
      "    Combustible tanque externo: 84505 lts\n",
      "    Total combustible: 1065990 lts\n",
      "    \n"
     ]
    }
   ],
   "source": [
    "def informe_mision(tiemp_pre, tiempo, destino, tanque_externo, tanque_int):\n",
    "    return f\"\"\" Informe de Lanzamiento\n",
    "    Tiempo de lanzamiento: {tiemp_pre} hrs\n",
    "    Tiempo de viaje: {tiempo}\n",
    "    Destino: {destino}\n",
    "    Tiempo total: {tiempo+tiemp_pre}\n",
    "    Combustible tanque interno: {tanque_int} lts\n",
    "    Combustible tanque externo: {tanque_externo} lts\n",
    "    Total combustible: {tanque_int+tanque_externo} lts\n",
    "    \"\"\"\n",
    "print(informe_mision(8,51415,\"Marte\",84505,981485))"
   ]
  },
  {
   "cell_type": "code",
   "execution_count": 49,
   "metadata": {},
   "outputs": [
    {
     "name": "stdout",
     "output_type": "stream",
     "text": [
      "\n",
      "    Misión a: Marte\n",
      "    Tiempo de viaje total 1361 minutos\n",
      "    Combustible total: 9301510\n",
      "    \n"
     ]
    }
   ],
   "source": [
    "def informe_mision(destino,*minutos,**tanque_combustible):\n",
    "    return f\"\"\"\n",
    "    Misión a: {destino}\n",
    "    Tiempo de viaje total {sum(minutos)} minutos\n",
    "    Combustible total: {sum(tanque_combustible.values())}\n",
    "    \"\"\"\n",
    "print(informe_mision(\"Marte\",10,51,1300, principal=8490400, externo= 811110))"
   ]
  },
  {
   "cell_type": "code",
   "execution_count": 1,
   "metadata": {},
   "outputs": [
    {
     "name": "stdout",
     "output_type": "stream",
     "text": [
      "\n",
      "    Destino Marte\n",
      "    Viaje: 925 min\n",
      "    Combustible total: {'interno': 88040, 'externo': 65468}\n",
      "    interno tanque: 88040 litros\n",
      "externo tanque: 65468 litros\n",
      "\n"
     ]
    }
   ],
   "source": [
    "def informe_mision(destion, *minutos,**tanque_combustible):\n",
    "    reporte= f\"\"\"\n",
    "    Destino {destion}\n",
    "    Viaje: {sum(minutos)} min\n",
    "    Combustible total: {tanque_combustible}\n",
    "    \"\"\"\n",
    "\n",
    "    for tanque, litros in tanque_combustible.items():\n",
    "        reporte+=f\"{tanque} tanque: {litros} litros\\n\"\n",
    "    return reporte\n",
    "print(informe_mision(\"Marte\",51, 25, 849, interno=88040, externo=65468))"
   ]
  }
 ],
 "metadata": {
  "interpreter": {
   "hash": "d9244179d1956ecf1128cf4ae80304c15e3eb5c2ce0a6fa27c6a7182dccff657"
  },
  "kernelspec": {
   "display_name": "Python 3.10.2 64-bit (windows store)",
   "language": "python",
   "name": "python3"
  },
  "language_info": {
   "codemirror_mode": {
    "name": "ipython",
    "version": 3
   },
   "file_extension": ".py",
   "mimetype": "text/x-python",
   "name": "python",
   "nbconvert_exporter": "python",
   "pygments_lexer": "ipython3",
   "version": "3.10.2"
  },
  "orig_nbformat": 4
 },
 "nbformat": 4,
 "nbformat_minor": 2
}
