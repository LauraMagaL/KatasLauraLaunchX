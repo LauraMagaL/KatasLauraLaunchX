{
 "cells": [
  {
   "cell_type": "markdown",
   "metadata": {},
   "source": [
    "## Ejercicio 1"
   ]
  },
  {
   "cell_type": "code",
   "execution_count": 16,
   "metadata": {},
   "outputs": [
    {
     "name": "stdout",
     "output_type": "stream",
     "text": [
      "¡Peligro! Asteroide se acerca a la Tierra demasiado rápido\n"
     ]
    }
   ],
   "source": [
    "vel_ast=49\n",
    "\n",
    "if vel_ast >=25 or dist_sol==10000:\n",
    "    print(\"¡Peligro! Asteroide se acerca a la Tierra demasiado rápido\")\n",
    "else:\n",
    "    print(\"Es un día normal y tranquilo\")"
   ]
  },
  {
   "cell_type": "markdown",
   "metadata": {},
   "source": [
    "## Ejercicio 2"
   ]
  },
  {
   "cell_type": "code",
   "execution_count": 17,
   "metadata": {},
   "outputs": [
    {
     "name": "stdout",
     "output_type": "stream",
     "text": [
      "No pasa nada hoy...\n"
     ]
    }
   ],
   "source": [
    "asteroide=19\n",
    "if asteroide >20:\n",
    "    print(\"¡Advertencia! posible asteroide. Busque una luz en el cielo\")\n",
    "elif asteroide==20:\n",
    "    print(\"¡Advertencia! posible asteroide. Busque una luz en el cielo\")\n",
    "else:\n",
    "    print(\"No pasa nada hoy...\")\n"
   ]
  },
  {
   "cell_type": "markdown",
   "metadata": {},
   "source": [
    "## Ejercicio 3"
   ]
  },
  {
   "cell_type": "code",
   "execution_count": 18,
   "metadata": {},
   "outputs": [
    {
     "name": "stdout",
     "output_type": "stream",
     "text": [
      "Se espera que entre un asteroide sin peligro de destrucción. Podrá ver luces en el cielo. Disfrute el espectáculo\n"
     ]
    }
   ],
   "source": [
    "#si es un asteroide que mide menos de 25m, se quemará\n",
    "#si mide entre 25-1000, hará daño\n",
    "#si va por arriba de 25 kmps merece advertencia\n",
    "#si su vel es mayor o igual a 20 aparece un rayo de luz\n",
    "\n",
    "tamaño=20\n",
    "velocidad=35\n",
    "if velocidad>=25 and tamaño>=25:\n",
    "    print(\"¡Advertencia! vaya rezando por pronta caída de veloz asteoride que causará mucho daño\")\n",
    "elif velocidad>=20:\n",
    "    print(\"Se espera que entre un asteroide sin peligro de destrucción. Podrá ver luces en el cielo. Disfrute el espectáculo\")\n",
    "elif tamaño<25:\n",
    "    print(\"día cualquiera\")\n",
    "else:\n",
    "    print(\"Es un lindo día, no creen?\")\n",
    "    "
   ]
  }
 ],
 "metadata": {
  "interpreter": {
   "hash": "d9244179d1956ecf1128cf4ae80304c15e3eb5c2ce0a6fa27c6a7182dccff657"
  },
  "kernelspec": {
   "display_name": "Python 3.10.2 64-bit (windows store)",
   "language": "python",
   "name": "python3"
  },
  "language_info": {
   "codemirror_mode": {
    "name": "ipython",
    "version": 3
   },
   "file_extension": ".py",
   "mimetype": "text/x-python",
   "name": "python",
   "nbconvert_exporter": "python",
   "pygments_lexer": "ipython3",
   "version": "3.10.2"
  },
  "orig_nbformat": 4
 },
 "nbformat": 4,
 "nbformat_minor": 2
}
